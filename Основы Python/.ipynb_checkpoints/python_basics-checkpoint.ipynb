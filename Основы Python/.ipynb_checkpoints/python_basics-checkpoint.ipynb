{
 "cells": [
  {
   "cell_type": "markdown",
   "metadata": {},
   "source": [
    "**Задание 1**. Даны 2 строки: *long_phrase* и *short_phrase*. \n",
    "Напишите код, который проверяет действительно ли длинная фраза *long_phrase* длиннее короткой *short_phrase*. И выводит *True* или *False* в зависимости от результата сравнения."
   ]
  },
  {
   "cell_type": "code",
   "execution_count": 1,
   "metadata": {},
   "outputs": [],
   "source": [
    "long_phrase = 'Насколько проще было бы писать программы, если бы не заказчики'\n",
    "short_phrase = '640Кб должно хватить для любых задач. Билл Гейтс (по легенде)'"
   ]
  },
  {
   "cell_type": "code",
   "execution_count": 2,
   "metadata": {},
   "outputs": [
    {
     "data": {
      "text/plain": [
       "True"
      ]
     },
     "execution_count": 2,
     "metadata": {},
     "output_type": "execute_result"
    }
   ],
   "source": [
    "len(long_phrase) > len(short_phrase)"
   ]
  },
  {
   "cell_type": "markdown",
   "metadata": {},
   "source": [
    "**Задание 2**. Дано значение объема файла в байтах (*в мегабайте 2^20 байт*). Напишите перевод этого значения в мегабайты в формате: \"*Объем файла равен 213.68Mb*\"."
   ]
  },
  {
   "cell_type": "code",
   "execution_count": 3,
   "metadata": {},
   "outputs": [
    {
     "name": "stdout",
     "output_type": "stream",
     "text": [
      "Объем файла равен 9.54 Mb\n"
     ]
    }
   ],
   "source": [
    "file_size_byte = 10000000\n",
    "file_size_mb = file_size_byte/2**20\n",
    "print(\"Объем файла равен\",round(file_size_mb,2),\"Mb\")"
   ]
  },
  {
   "cell_type": "markdown",
   "metadata": {},
   "source": [
    "**Задание 3**. Разработать приложение для определения знака зодиака по дате рождения. Пример:\n",
    "\n",
    "Введите месяц: март\n",
    "\n",
    "Введите число: 6\n",
    "\n",
    "Вывод:\n",
    "Рыбы"
   ]
  },
  {
   "cell_type": "code",
   "execution_count": 4,
   "metadata": {},
   "outputs": [
    {
     "name": "stdout",
     "output_type": "stream",
     "text": [
      "Введите номер месяца рождения: 7\n",
      "Введите число рождения: 14\n",
      "Рак\n"
     ]
    }
   ],
   "source": [
    "month = int(input(\"Введите номер месяца рождения: \"))\n",
    "num = int(input(\"Введите число рождения: \"))\n",
    "if (month == 1 and 1 <= num <= 19) or (month == 12 and 21 <= num <= 31):\n",
    "    print(\"Козерог\")\n",
    "elif (month == 2 and 1 <= num <= 19) or (month == 1 and 20 <= num <= 31):\n",
    "    print(\"Водолей\")\n",
    "elif (month == 3 and 1 <= num <= 20) or (month == 2 and 20 <= num <= 29):\n",
    "    print(\"Рыбы\")\n",
    "elif (month == 4 and 1 <= num <= 19) or (month == 3 and 21 <= num <= 31):\n",
    "    print(\"Овен\")\n",
    "elif (month == 5 and 1 <= num <= 20) or (month == 4 and 20 <= num <= 30):\n",
    "    print(\"Телец\")\n",
    "elif (month == 6 and 1 <= num <= 20) or (month == 5 and 21 <= num <= 31):\n",
    "    print(\"Близнецы\")\n",
    "elif (month == 7 and 1 <= num <= 22) or (month == 6 and 21 <= num <= 30):\n",
    "    print(\"Рак\")\n",
    "elif (month == 8 and 1 <= num <= 22) or (month == 7 and 23 <= num <= 31):\n",
    "    print(\"Лев\")\n",
    "elif (month == 9 and 1 <= num <= 22) or (month == 8 and 23 <= num <= 31):\n",
    "    print(\"Дева\")\n",
    "elif (month == 10 and 1 <= num <= 23) or (month == 9 and 23 <= num <= 30):\n",
    "    print(\"Весы\")\n",
    "elif (month == 11 and 1 <= num <= 22) or (month == 10 and 24 <= num <= 31):\n",
    "    print(\"Скорпион\")\n",
    "elif (month == 12 and 1 <= num <= 21) or (month == 11 and 23 <= num <= 30):\n",
    "    print(\"Стрелец\")\n",
    "else:\n",
    "    print(\"Вы ввели неправильные данные!\")\n",
    "        "
   ]
  },
  {
   "cell_type": "markdown",
   "metadata": {},
   "source": [
    "**Задание 4**. Нужно разработать приложение для финансового планирования.\n",
    "Приложение учитывает сколько уходит на ипотеку, \"на жизнь\" и сколько нужно отложить на пенсию.\n",
    "Пользователь вводит:\n",
    "- заработанную плату в месяц.\n",
    "- сколько процентов от ЗП уходит на ипотеку.\n",
    "- сколько процентов от ЗП уходит \"на жизнь\".\n",
    "- сколько раз приходит премия в год.\n",
    "\n",
    "Остальная часть заработанной платы откладывается на пенсию.\n",
    "\n",
    "Также пользователю приходит премия в размере зарплаты, от которой половина уходит на отпуск, а вторая половина откладывается.\n",
    "\n",
    "Программа должна учитывать сколько премий было в год.\n",
    "\n",
    "Нужно вывести сколько денег тратит пользователь на ипотеку и сколько он накопит за год.\n",
    "\n",
    "Пример:\n",
    "\n",
    "Введите заработанную плату в месяц: 100000\n",
    "\n",
    "Введите сколько процентов уходит на ипотеку: 30\n",
    "\n",
    "Введите сколько процентов уходит на жизнь: 50\n",
    "\n",
    "Введите количество премий за год: 2\n",
    "\n",
    "Вывод:\n",
    "На ипотеку было потрачено: 360000 рублей\n",
    "Было накоплено: 340000 рублей"
   ]
  },
  {
   "cell_type": "code",
   "execution_count": 5,
   "metadata": {},
   "outputs": [
    {
     "name": "stdout",
     "output_type": "stream",
     "text": [
      "Введите заработанную плату в месяц: 100000\n",
      "Введите сколько процентов уходит на ипотеку: 50\n",
      "Введите сколько процентов уходит на жизнь: 30\n",
      "Введите количество премий за год: 2\n",
      "На ипотеку было потрачено: 600000.0 рублей. Было накоплено: 340000.0 рублей.\n"
     ]
    }
   ],
   "source": [
    "salary = int(input(\"Введите заработанную плату в месяц: \"))\n",
    "ipoteka = float(input(\"Введите сколько процентов уходит на ипотеку: \"))\n",
    "life = float(input(\"Введите сколько процентов уходит на жизнь: \"))\n",
    "bonus = int(input(\"Введите количество премий за год: \"))\n",
    "\n",
    "if ipoteka + life <= 100:\n",
    "    ipoteka_sum = 12*salary*ipoteka/100\n",
    "    savings_sum = 12*salary - ipoteka_sum - 12*salary*life/100 + 0.5*salary*bonus\n",
    "    print(\"На ипотеку было потрачено:\", ipoteka_sum, \"рублей. Было накоплено:\", savings_sum, \"рублей.\")\n",
    "else:\n",
    "    print(\"Сумма процентов превышает 100%\")"
   ]
  },
  {
   "cell_type": "code",
   "execution_count": null,
   "metadata": {},
   "outputs": [],
   "source": []
  }
 ],
 "metadata": {
  "kernelspec": {
   "display_name": "Python 3",
   "language": "python",
   "name": "python3"
  },
  "language_info": {
   "codemirror_mode": {
    "name": "ipython",
    "version": 3
   },
   "file_extension": ".py",
   "mimetype": "text/x-python",
   "name": "python",
   "nbconvert_exporter": "python",
   "pygments_lexer": "ipython3",
   "version": "3.7.4"
  }
 },
 "nbformat": 4,
 "nbformat_minor": 2
}
